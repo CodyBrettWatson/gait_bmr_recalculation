{
 "cells": [
  {
   "cell_type": "markdown",
   "metadata": {},
   "source": [
    "# Hypothesis\n",
    "- Gait is a more accurate measurement for determining weight and BMR than height."
   ]
  },
  {
   "cell_type": "code",
   "execution_count": 1,
   "metadata": {},
   "outputs": [],
   "source": [
    "import pandas as pd\n",
    "import matplotlib.pyplot as plt\n",
    "from statsmodels.tsa.api import ExponentialSmoothing, SimpleExpSmoothing, Holt\n",
    "import statsmodels.api as sm\n",
    "from statsmodels.tsa.ar_model import AR\n",
    "from statsmodels.tsa.api import Holt\n",
    "from fbprophet import Prophet\n",
    "\n",
    "from sklearn.model_selection import TimeSeriesSplit\n",
    "from sklearn import metrics\n",
    "\n",
    "import math"
   ]
  },
  {
   "cell_type": "code",
   "execution_count": 2,
   "metadata": {},
   "outputs": [],
   "source": [
    "df = pd.read_csv('Total_Fitbit_2.csv')"
   ]
  },
  {
   "cell_type": "code",
   "execution_count": 3,
   "metadata": {},
   "outputs": [],
   "source": [
    "df['Date'] = pd.to_datetime(df.Date)"
   ]
  },
  {
   "cell_type": "code",
   "execution_count": 4,
   "metadata": {},
   "outputs": [],
   "source": [
    "df.set_index('Date', drop=True, inplace= True)"
   ]
  },
  {
   "cell_type": "code",
   "execution_count": 5,
   "metadata": {},
   "outputs": [],
   "source": [
    "df.replace(',','', regex=True, inplace=True)"
   ]
  },
  {
   "cell_type": "code",
   "execution_count": 6,
   "metadata": {},
   "outputs": [],
   "source": [
    "cols = ['Calories_Burned', 'Steps', 'Distance', 'Floors', 'Minutes_Sedentary',\n",
    "       'Minutes_Lightly_Active', 'Minutes_Fairly_Active',\n",
    "       'Minutes_Very_Active', 'Activity_Calories', 'Calories_In']\n",
    "\n",
    "df = df[cols].astype(float)"
   ]
  },
  {
   "cell_type": "code",
   "execution_count": 7,
   "metadata": {},
   "outputs": [],
   "source": [
    "df.rename(index=str, columns={\"Minutes_Sedentary\": \"Min_S\", \"Minutes_Lightly_Active\": \"Min_LA\",\n",
    "                             \"Minutes_Fairly_Active\": \"Min_FA\",\"Minutes_Very_Active\": \"Min_VA\",\n",
    "                             \"Activity_Calories\": \"Act_Cal\",\"Calories_In\": \"Cal_In\", \"Calories_Burned\": \"Cal_Burn\",\n",
    "                             \"Distance\":\"Dist\"}, inplace=True)"
   ]
  },
  {
   "cell_type": "code",
   "execution_count": 8,
   "metadata": {},
   "outputs": [
    {
     "data": {
      "text/html": [
       "<div>\n",
       "<style scoped>\n",
       "    .dataframe tbody tr th:only-of-type {\n",
       "        vertical-align: middle;\n",
       "    }\n",
       "\n",
       "    .dataframe tbody tr th {\n",
       "        vertical-align: top;\n",
       "    }\n",
       "\n",
       "    .dataframe thead th {\n",
       "        text-align: right;\n",
       "    }\n",
       "</style>\n",
       "<table border=\"1\" class=\"dataframe\">\n",
       "  <thead>\n",
       "    <tr style=\"text-align: right;\">\n",
       "      <th></th>\n",
       "      <th>Cal_Burn</th>\n",
       "      <th>Steps</th>\n",
       "      <th>Dist</th>\n",
       "      <th>Floors</th>\n",
       "      <th>Min_S</th>\n",
       "      <th>Min_LA</th>\n",
       "      <th>Min_FA</th>\n",
       "      <th>Min_VA</th>\n",
       "      <th>Act_Cal</th>\n",
       "      <th>Cal_In</th>\n",
       "    </tr>\n",
       "    <tr>\n",
       "      <th>Date</th>\n",
       "      <th></th>\n",
       "      <th></th>\n",
       "      <th></th>\n",
       "      <th></th>\n",
       "      <th></th>\n",
       "      <th></th>\n",
       "      <th></th>\n",
       "      <th></th>\n",
       "      <th></th>\n",
       "      <th></th>\n",
       "    </tr>\n",
       "  </thead>\n",
       "  <tbody>\n",
       "    <tr>\n",
       "      <th>2018-04-26 00:00:00</th>\n",
       "      <td>2635.0</td>\n",
       "      <td>2931.0</td>\n",
       "      <td>1.38</td>\n",
       "      <td>2.0</td>\n",
       "      <td>1347.0</td>\n",
       "      <td>93.0</td>\n",
       "      <td>0.0</td>\n",
       "      <td>0.0</td>\n",
       "      <td>566.0</td>\n",
       "      <td>0.0</td>\n",
       "    </tr>\n",
       "    <tr>\n",
       "      <th>2018-04-27 00:00:00</th>\n",
       "      <td>3649.0</td>\n",
       "      <td>9971.0</td>\n",
       "      <td>4.70</td>\n",
       "      <td>19.0</td>\n",
       "      <td>1158.0</td>\n",
       "      <td>219.0</td>\n",
       "      <td>46.0</td>\n",
       "      <td>17.0</td>\n",
       "      <td>1752.0</td>\n",
       "      <td>0.0</td>\n",
       "    </tr>\n",
       "    <tr>\n",
       "      <th>2018-04-28 00:00:00</th>\n",
       "      <td>3379.0</td>\n",
       "      <td>3521.0</td>\n",
       "      <td>1.66</td>\n",
       "      <td>2.0</td>\n",
       "      <td>702.0</td>\n",
       "      <td>155.0</td>\n",
       "      <td>22.0</td>\n",
       "      <td>11.0</td>\n",
       "      <td>1124.0</td>\n",
       "      <td>0.0</td>\n",
       "    </tr>\n",
       "    <tr>\n",
       "      <th>2018-04-29 00:00:00</th>\n",
       "      <td>2851.0</td>\n",
       "      <td>1639.0</td>\n",
       "      <td>0.77</td>\n",
       "      <td>0.0</td>\n",
       "      <td>891.0</td>\n",
       "      <td>122.0</td>\n",
       "      <td>0.0</td>\n",
       "      <td>0.0</td>\n",
       "      <td>602.0</td>\n",
       "      <td>0.0</td>\n",
       "    </tr>\n",
       "    <tr>\n",
       "      <th>2018-04-30 00:00:00</th>\n",
       "      <td>2825.0</td>\n",
       "      <td>1323.0</td>\n",
       "      <td>0.62</td>\n",
       "      <td>0.0</td>\n",
       "      <td>880.0</td>\n",
       "      <td>104.0</td>\n",
       "      <td>0.0</td>\n",
       "      <td>0.0</td>\n",
       "      <td>540.0</td>\n",
       "      <td>0.0</td>\n",
       "    </tr>\n",
       "  </tbody>\n",
       "</table>\n",
       "</div>"
      ],
      "text/plain": [
       "                     Cal_Burn   Steps  Dist  Floors   Min_S  Min_LA  Min_FA  \\\n",
       "Date                                                                          \n",
       "2018-04-26 00:00:00    2635.0  2931.0  1.38     2.0  1347.0    93.0     0.0   \n",
       "2018-04-27 00:00:00    3649.0  9971.0  4.70    19.0  1158.0   219.0    46.0   \n",
       "2018-04-28 00:00:00    3379.0  3521.0  1.66     2.0   702.0   155.0    22.0   \n",
       "2018-04-29 00:00:00    2851.0  1639.0  0.77     0.0   891.0   122.0     0.0   \n",
       "2018-04-30 00:00:00    2825.0  1323.0  0.62     0.0   880.0   104.0     0.0   \n",
       "\n",
       "                     Min_VA  Act_Cal  Cal_In  \n",
       "Date                                          \n",
       "2018-04-26 00:00:00     0.0    566.0     0.0  \n",
       "2018-04-27 00:00:00    17.0   1752.0     0.0  \n",
       "2018-04-28 00:00:00    11.0   1124.0     0.0  \n",
       "2018-04-29 00:00:00     0.0    602.0     0.0  \n",
       "2018-04-30 00:00:00     0.0    540.0     0.0  "
      ]
     },
     "execution_count": 8,
     "metadata": {},
     "output_type": "execute_result"
    }
   ],
   "source": [
    "df.head()"
   ]
  },
  {
   "cell_type": "code",
   "execution_count": 9,
   "metadata": {},
   "outputs": [],
   "source": [
    "df['Dist_in'] = df.Dist*63360"
   ]
  },
  {
   "cell_type": "code",
   "execution_count": 10,
   "metadata": {},
   "outputs": [],
   "source": [
    "df['Gait'] = df.Dist_in/df.Steps"
   ]
  },
  {
   "cell_type": "code",
   "execution_count": 11,
   "metadata": {},
   "outputs": [],
   "source": [
    "height_cm = ((df.Gait.mean())/0.43)*2.54\n",
    "# (the 0.43 comes from -> https://www.scientificamerican.com/article/bring-science-home-estimating-height-walk/)\n",
    "# gh= gait_height\n",
    "# ah= actual_height\n",
    "gh = ((df.Gait.mean())/0.43)*2.54\n",
    "ah = 182.88\n",
    "a = 28\n",
    "b = 2145"
   ]
  },
  {
   "cell_type": "code",
   "execution_count": 12,
   "metadata": {},
   "outputs": [
    {
     "name": "stdout",
     "output_type": "stream",
     "text": [
      "250.665294\n",
      "258.6723124224538\n"
     ]
    }
   ],
   "source": [
    "weight_lb_actual_height = (((((6.25*ah)-(5*a)+5)-b)/-10)*2.20462)\n",
    "weight_lb_gait_height = (((((6.25*gh)-(5*a)+5)-b)/-10)*2.20462)\n",
    "print(weight_lb_actual_height)\n",
    "print(weight_lb_gait_height)"
   ]
  },
  {
   "cell_type": "code",
   "execution_count": 47,
   "metadata": {},
   "outputs": [],
   "source": [
    "df2 = pd.read_csv('Fitabase_Data_4.12.16-5.12.16/dailyActivity_merged.csv')\n",
    "df3 = pd.read_csv('Fitabase_Data_4.12.16-5.12.16/dailyCalories_merged.csv') #Not Needed\n",
    "df4 = pd.read_csv('Fitabase_Data_4.12.16-5.12.16/dailyIntensities_merged.csv') #Not Needed\n",
    "df5 = pd.read_csv('Fitabase_Data_4.12.16-5.12.16/dailySteps_merged.csv') #Not Needed\n",
    "df6 = pd.read_csv('Fitabase_Data_4.12.16-5.12.16/heartrate_seconds_merged.csv')\n",
    "df7 = pd.read_csv('Fitabase_Data_4.12.16-5.12.16/hourlyCalories_merged.csv')\n",
    "df8 = pd.read_csv('Fitabase_Data_4.12.16-5.12.16/hourlyIntensities_merged.csv')\n",
    "df9 = pd.read_csv('Fitabase_Data_4.12.16-5.12.16/hourlySteps_merged.csv')\n",
    "df10 = pd.read_csv('Fitabase_Data_4.12.16-5.12.16/minuteCaloriesNarrow_merged.csv')\n",
    "df11 = pd.read_csv('Fitabase_Data_4.12.16-5.12.16/minuteCaloriesWide_merged.csv')\n",
    "df12 = pd.read_csv('Fitabase_Data_4.12.16-5.12.16/minuteIntensitiesNarrow_merged.csv') #Not Needed\n",
    "df13 = pd.read_csv('Fitabase_Data_4.12.16-5.12.16/minuteIntensitiesWide_merged.csv') #Not Needed\n",
    "df14 =  pd.read_csv('Fitabase_Data_4.12.16-5.12.16/minuteMETsNarrow_merged.csv')\n",
    "df15 =  pd.read_csv('Fitabase_Data_4.12.16-5.12.16/minuteSleep_merged.csv')\n",
    "df16 =  pd.read_csv('Fitabase_Data_4.12.16-5.12.16/minuteStepsNarrow_merged.csv') #Not Needed\n",
    "df17 =  pd.read_csv('Fitabase_Data_4.12.16-5.12.16/minuteStepsWide_merged.csv')\n",
    "df18 =  pd.read_csv('Fitabase_Data_4.12.16-5.12.16/sleepDay_merged.csv')\n",
    "df19 =  pd.read_csv('Fitabase_Data_4.12.16-5.12.16/weightLogInfo_merged.csv')"
   ]
  },
  {
   "cell_type": "code",
   "execution_count": 84,
   "metadata": {},
   "outputs": [
    {
     "data": {
      "text/html": [
       "<div>\n",
       "<style scoped>\n",
       "    .dataframe tbody tr th:only-of-type {\n",
       "        vertical-align: middle;\n",
       "    }\n",
       "\n",
       "    .dataframe tbody tr th {\n",
       "        vertical-align: top;\n",
       "    }\n",
       "\n",
       "    .dataframe thead th {\n",
       "        text-align: right;\n",
       "    }\n",
       "</style>\n",
       "<table border=\"1\" class=\"dataframe\">\n",
       "  <thead>\n",
       "    <tr style=\"text-align: right;\">\n",
       "      <th></th>\n",
       "      <th>0</th>\n",
       "      <th>1</th>\n",
       "      <th>2</th>\n",
       "      <th>3</th>\n",
       "      <th>4</th>\n",
       "      <th>5</th>\n",
       "      <th>6</th>\n",
       "    </tr>\n",
       "  </thead>\n",
       "  <tbody>\n",
       "    <tr>\n",
       "      <th>Id</th>\n",
       "      <td>1503960366</td>\n",
       "      <td>1503960366</td>\n",
       "      <td>1503960366</td>\n",
       "      <td>1503960366</td>\n",
       "      <td>1503960366</td>\n",
       "      <td>1503960366</td>\n",
       "      <td>1503960366</td>\n",
       "    </tr>\n",
       "    <tr>\n",
       "      <th>ActivityDate</th>\n",
       "      <td>4/12/2016</td>\n",
       "      <td>4/13/2016</td>\n",
       "      <td>4/14/2016</td>\n",
       "      <td>4/15/2016</td>\n",
       "      <td>4/16/2016</td>\n",
       "      <td>4/17/2016</td>\n",
       "      <td>4/18/2016</td>\n",
       "    </tr>\n",
       "    <tr>\n",
       "      <th>TotalSteps</th>\n",
       "      <td>13162</td>\n",
       "      <td>10735</td>\n",
       "      <td>10460</td>\n",
       "      <td>9762</td>\n",
       "      <td>12669</td>\n",
       "      <td>9705</td>\n",
       "      <td>13019</td>\n",
       "    </tr>\n",
       "    <tr>\n",
       "      <th>TotalDistance</th>\n",
       "      <td>8.5</td>\n",
       "      <td>6.97</td>\n",
       "      <td>6.74</td>\n",
       "      <td>6.28</td>\n",
       "      <td>8.16</td>\n",
       "      <td>6.48</td>\n",
       "      <td>8.59</td>\n",
       "    </tr>\n",
       "    <tr>\n",
       "      <th>TrackerDistance</th>\n",
       "      <td>8.5</td>\n",
       "      <td>6.97</td>\n",
       "      <td>6.74</td>\n",
       "      <td>6.28</td>\n",
       "      <td>8.16</td>\n",
       "      <td>6.48</td>\n",
       "      <td>8.59</td>\n",
       "    </tr>\n",
       "    <tr>\n",
       "      <th>LoggedActivitiesDistance</th>\n",
       "      <td>0</td>\n",
       "      <td>0</td>\n",
       "      <td>0</td>\n",
       "      <td>0</td>\n",
       "      <td>0</td>\n",
       "      <td>0</td>\n",
       "      <td>0</td>\n",
       "    </tr>\n",
       "    <tr>\n",
       "      <th>VeryActiveDistance</th>\n",
       "      <td>1.88</td>\n",
       "      <td>1.57</td>\n",
       "      <td>2.44</td>\n",
       "      <td>2.14</td>\n",
       "      <td>2.71</td>\n",
       "      <td>3.19</td>\n",
       "      <td>3.25</td>\n",
       "    </tr>\n",
       "    <tr>\n",
       "      <th>ModeratelyActiveDistance</th>\n",
       "      <td>0.55</td>\n",
       "      <td>0.69</td>\n",
       "      <td>0.4</td>\n",
       "      <td>1.26</td>\n",
       "      <td>0.41</td>\n",
       "      <td>0.78</td>\n",
       "      <td>0.64</td>\n",
       "    </tr>\n",
       "    <tr>\n",
       "      <th>LightActiveDistance</th>\n",
       "      <td>6.06</td>\n",
       "      <td>4.71</td>\n",
       "      <td>3.91</td>\n",
       "      <td>2.83</td>\n",
       "      <td>5.04</td>\n",
       "      <td>2.51</td>\n",
       "      <td>4.71</td>\n",
       "    </tr>\n",
       "    <tr>\n",
       "      <th>SedentaryActiveDistance</th>\n",
       "      <td>0</td>\n",
       "      <td>0</td>\n",
       "      <td>0</td>\n",
       "      <td>0</td>\n",
       "      <td>0</td>\n",
       "      <td>0</td>\n",
       "      <td>0</td>\n",
       "    </tr>\n",
       "    <tr>\n",
       "      <th>VeryActiveMinutes</th>\n",
       "      <td>25</td>\n",
       "      <td>21</td>\n",
       "      <td>30</td>\n",
       "      <td>29</td>\n",
       "      <td>36</td>\n",
       "      <td>38</td>\n",
       "      <td>42</td>\n",
       "    </tr>\n",
       "    <tr>\n",
       "      <th>FairlyActiveMinutes</th>\n",
       "      <td>13</td>\n",
       "      <td>19</td>\n",
       "      <td>11</td>\n",
       "      <td>34</td>\n",
       "      <td>10</td>\n",
       "      <td>20</td>\n",
       "      <td>16</td>\n",
       "    </tr>\n",
       "    <tr>\n",
       "      <th>LightlyActiveMinutes</th>\n",
       "      <td>328</td>\n",
       "      <td>217</td>\n",
       "      <td>181</td>\n",
       "      <td>209</td>\n",
       "      <td>221</td>\n",
       "      <td>164</td>\n",
       "      <td>233</td>\n",
       "    </tr>\n",
       "    <tr>\n",
       "      <th>SedentaryMinutes</th>\n",
       "      <td>728</td>\n",
       "      <td>776</td>\n",
       "      <td>1218</td>\n",
       "      <td>726</td>\n",
       "      <td>773</td>\n",
       "      <td>539</td>\n",
       "      <td>1149</td>\n",
       "    </tr>\n",
       "    <tr>\n",
       "      <th>Calories</th>\n",
       "      <td>1985</td>\n",
       "      <td>1797</td>\n",
       "      <td>1776</td>\n",
       "      <td>1745</td>\n",
       "      <td>1863</td>\n",
       "      <td>1728</td>\n",
       "      <td>1921</td>\n",
       "    </tr>\n",
       "  </tbody>\n",
       "</table>\n",
       "</div>"
      ],
      "text/plain": [
       "                                   0           1           2           3  \\\n",
       "Id                        1503960366  1503960366  1503960366  1503960366   \n",
       "ActivityDate               4/12/2016   4/13/2016   4/14/2016   4/15/2016   \n",
       "TotalSteps                     13162       10735       10460        9762   \n",
       "TotalDistance                    8.5        6.97        6.74        6.28   \n",
       "TrackerDistance                  8.5        6.97        6.74        6.28   \n",
       "LoggedActivitiesDistance           0           0           0           0   \n",
       "VeryActiveDistance              1.88        1.57        2.44        2.14   \n",
       "ModeratelyActiveDistance        0.55        0.69         0.4        1.26   \n",
       "LightActiveDistance             6.06        4.71        3.91        2.83   \n",
       "SedentaryActiveDistance            0           0           0           0   \n",
       "VeryActiveMinutes                 25          21          30          29   \n",
       "FairlyActiveMinutes               13          19          11          34   \n",
       "LightlyActiveMinutes             328         217         181         209   \n",
       "SedentaryMinutes                 728         776        1218         726   \n",
       "Calories                        1985        1797        1776        1745   \n",
       "\n",
       "                                   4           5           6  \n",
       "Id                        1503960366  1503960366  1503960366  \n",
       "ActivityDate               4/16/2016   4/17/2016   4/18/2016  \n",
       "TotalSteps                     12669        9705       13019  \n",
       "TotalDistance                   8.16        6.48        8.59  \n",
       "TrackerDistance                 8.16        6.48        8.59  \n",
       "LoggedActivitiesDistance           0           0           0  \n",
       "VeryActiveDistance              2.71        3.19        3.25  \n",
       "ModeratelyActiveDistance        0.41        0.78        0.64  \n",
       "LightActiveDistance             5.04        2.51        4.71  \n",
       "SedentaryActiveDistance            0           0           0  \n",
       "VeryActiveMinutes                 36          38          42  \n",
       "FairlyActiveMinutes               10          20          16  \n",
       "LightlyActiveMinutes             221         164         233  \n",
       "SedentaryMinutes                 773         539        1149  \n",
       "Calories                        1863        1728        1921  "
      ]
     },
     "execution_count": 84,
     "metadata": {},
     "output_type": "execute_result"
    }
   ],
   "source": [
    "df2.head(7).T"
   ]
  },
  {
   "cell_type": "code",
   "execution_count": 33,
   "metadata": {},
   "outputs": [
    {
     "name": "stdout",
     "output_type": "stream",
     "text": [
      "Shape of the data set is (940, 15)\n",
      "The number of participants is 33\n",
      "The number of days is 31\n"
     ]
    }
   ],
   "source": [
    "shape = df2.shape\n",
    "participants = len(df2.Id.unique())\n",
    "numberofdays = len(df2.ActivityDate.unique())\n",
    "print(f'Shape of the data set is {shape}')\n",
    "print(f'The number of participants is {participants}')\n",
    "print(f'The number of days is {numberofdays}')"
   ]
  },
  {
   "cell_type": "code",
   "execution_count": 69,
   "metadata": {},
   "outputs": [
    {
     "data": {
      "text/plain": [
       "array([1503960366, 1624580081, 1644430081, 1844505072, 1927972279,\n",
       "       2022484408, 2026352035, 2320127002, 2347167796, 2873212765,\n",
       "       3372868164, 3977333714, 4020332650, 4057192912, 4319703577,\n",
       "       4388161847, 4445114986, 4558609924, 4702921684, 5553957443,\n",
       "       5577150313, 6117666160, 6290855005, 6775888955, 6962181067,\n",
       "       7007744171, 7086361926, 8053475328, 8253242879, 8378563200,\n",
       "       8583815059, 8792009665, 8877689391])"
      ]
     },
     "execution_count": 69,
     "metadata": {},
     "output_type": "execute_result"
    }
   ],
   "source": [
    "df2.Id.unique()"
   ]
  },
  {
   "cell_type": "code",
   "execution_count": 83,
   "metadata": {},
   "outputs": [
    {
     "data": {
      "text/html": [
       "<div>\n",
       "<style scoped>\n",
       "    .dataframe tbody tr th:only-of-type {\n",
       "        vertical-align: middle;\n",
       "    }\n",
       "\n",
       "    .dataframe tbody tr th {\n",
       "        vertical-align: top;\n",
       "    }\n",
       "\n",
       "    .dataframe thead th {\n",
       "        text-align: right;\n",
       "    }\n",
       "</style>\n",
       "<table border=\"1\" class=\"dataframe\">\n",
       "  <thead>\n",
       "    <tr style=\"text-align: right;\">\n",
       "      <th></th>\n",
       "      <th>Id</th>\n",
       "      <th>Date</th>\n",
       "      <th>WeightKg</th>\n",
       "      <th>WeightPounds</th>\n",
       "      <th>Fat</th>\n",
       "      <th>BMI</th>\n",
       "      <th>IsManualReport</th>\n",
       "      <th>LogId</th>\n",
       "    </tr>\n",
       "  </thead>\n",
       "  <tbody>\n",
       "    <tr>\n",
       "      <th>0</th>\n",
       "      <td>1503960366</td>\n",
       "      <td>5/2/2016 11:59:59 PM</td>\n",
       "      <td>52.599998</td>\n",
       "      <td>115.963147</td>\n",
       "      <td>22.0</td>\n",
       "      <td>22.650000</td>\n",
       "      <td>True</td>\n",
       "      <td>1462233599000</td>\n",
       "    </tr>\n",
       "    <tr>\n",
       "      <th>1</th>\n",
       "      <td>1503960366</td>\n",
       "      <td>5/3/2016 11:59:59 PM</td>\n",
       "      <td>52.599998</td>\n",
       "      <td>115.963147</td>\n",
       "      <td>NaN</td>\n",
       "      <td>22.650000</td>\n",
       "      <td>True</td>\n",
       "      <td>1462319999000</td>\n",
       "    </tr>\n",
       "    <tr>\n",
       "      <th>2</th>\n",
       "      <td>1927972279</td>\n",
       "      <td>4/13/2016 1:08:52 AM</td>\n",
       "      <td>133.500000</td>\n",
       "      <td>294.317120</td>\n",
       "      <td>NaN</td>\n",
       "      <td>47.540001</td>\n",
       "      <td>False</td>\n",
       "      <td>1460509732000</td>\n",
       "    </tr>\n",
       "    <tr>\n",
       "      <th>3</th>\n",
       "      <td>2873212765</td>\n",
       "      <td>4/21/2016 11:59:59 PM</td>\n",
       "      <td>56.700001</td>\n",
       "      <td>125.002104</td>\n",
       "      <td>NaN</td>\n",
       "      <td>21.450001</td>\n",
       "      <td>True</td>\n",
       "      <td>1461283199000</td>\n",
       "    </tr>\n",
       "    <tr>\n",
       "      <th>4</th>\n",
       "      <td>2873212765</td>\n",
       "      <td>5/12/2016 11:59:59 PM</td>\n",
       "      <td>57.299999</td>\n",
       "      <td>126.324875</td>\n",
       "      <td>NaN</td>\n",
       "      <td>21.690001</td>\n",
       "      <td>True</td>\n",
       "      <td>1463097599000</td>\n",
       "    </tr>\n",
       "  </tbody>\n",
       "</table>\n",
       "</div>"
      ],
      "text/plain": [
       "           Id                   Date    WeightKg  WeightPounds   Fat  \\\n",
       "0  1503960366   5/2/2016 11:59:59 PM   52.599998    115.963147  22.0   \n",
       "1  1503960366   5/3/2016 11:59:59 PM   52.599998    115.963147   NaN   \n",
       "2  1927972279   4/13/2016 1:08:52 AM  133.500000    294.317120   NaN   \n",
       "3  2873212765  4/21/2016 11:59:59 PM   56.700001    125.002104   NaN   \n",
       "4  2873212765  5/12/2016 11:59:59 PM   57.299999    126.324875   NaN   \n",
       "\n",
       "         BMI  IsManualReport          LogId  \n",
       "0  22.650000            True  1462233599000  \n",
       "1  22.650000            True  1462319999000  \n",
       "2  47.540001           False  1460509732000  \n",
       "3  21.450001            True  1461283199000  \n",
       "4  21.690001            True  1463097599000  "
      ]
     },
     "execution_count": 83,
     "metadata": {},
     "output_type": "execute_result"
    }
   ],
   "source": [
    "df19.head()"
   ]
  },
  {
   "cell_type": "code",
   "execution_count": 67,
   "metadata": {},
   "outputs": [
    {
     "data": {
      "text/plain": [
       "array([1503960366, 1927972279, 2873212765, 4319703577, 4558609924,\n",
       "       5577150313, 6962181067, 8877689391])"
      ]
     },
     "execution_count": 67,
     "metadata": {},
     "output_type": "execute_result"
    }
   ],
   "source": [
    "df19.Id.unique()"
   ]
  },
  {
   "cell_type": "markdown",
   "metadata": {},
   "source": [
    "For Gait BMR calculations the following dataframes are needed\n",
    "df2, df7, and df19"
   ]
  },
  {
   "cell_type": "code",
   "execution_count": 78,
   "metadata": {},
   "outputs": [
    {
     "data": {
      "text/plain": [
       "1815.7096774193549"
      ]
     },
     "execution_count": 78,
     "metadata": {},
     "output_type": "execute_result"
    }
   ],
   "source": [
    "df7.Calories.where(df7.Id==1503960366).sum()/31"
   ]
  },
  {
   "cell_type": "code",
   "execution_count": null,
   "metadata": {},
   "outputs": [],
   "source": []
  }
 ],
 "metadata": {
  "kernelspec": {
   "display_name": "Python 3",
   "language": "python",
   "name": "python3"
  },
  "language_info": {
   "codemirror_mode": {
    "name": "ipython",
    "version": 3
   },
   "file_extension": ".py",
   "mimetype": "text/x-python",
   "name": "python",
   "nbconvert_exporter": "python",
   "pygments_lexer": "ipython3",
   "version": "3.7.1"
  }
 },
 "nbformat": 4,
 "nbformat_minor": 2
}
